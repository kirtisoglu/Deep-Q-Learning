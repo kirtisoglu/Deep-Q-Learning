{
 "cells": [
  {
   "cell_type": "code",
   "execution_count": 3,
   "metadata": {},
   "outputs": [
    {
     "data": {
      "text/plain": [
       "'/Users/kirtisoglu/Documents/Documents/GitHub/Deep-Q-Learning/data_utils'"
      ]
     },
     "execution_count": 3,
     "metadata": {},
     "output_type": "execute_result"
    }
   ],
   "source": [
    "import os\n",
    "os.getcwd() "
   ]
  },
  {
   "cell_type": "code",
   "execution_count": 2,
   "metadata": {},
   "outputs": [
    {
     "ename": "ModuleNotFoundError",
     "evalue": "No module named 'data_tools'",
     "output_type": "error",
     "traceback": [
      "\u001b[0;31m---------------------------------------------------------------------------\u001b[0m",
      "\u001b[0;31mModuleNotFoundError\u001b[0m                       Traceback (most recent call last)",
      "Cell \u001b[0;32mIn[2], line 12\u001b[0m\n\u001b[1;32m     10\u001b[0m \u001b[38;5;28;01mimport\u001b[39;00m \u001b[38;5;21;01mgzip\u001b[39;00m\n\u001b[1;32m     11\u001b[0m \u001b[38;5;28;01mimport\u001b[39;00m \u001b[38;5;21;01mnetworkx\u001b[39;00m \u001b[38;5;28;01mas\u001b[39;00m \u001b[38;5;21;01mnx\u001b[39;00m\n\u001b[0;32m---> 12\u001b[0m \u001b[38;5;28;01mfrom\u001b[39;00m \u001b[38;5;21;01mdata_tools\u001b[39;00m \u001b[38;5;28;01mimport\u001b[39;00m DataHandler, plot\n",
      "\u001b[0;31mModuleNotFoundError\u001b[0m: No module named 'data_tools'"
     ]
    }
   ],
   "source": [
    "import pandas as pd\n",
    "import numpy as np\n",
    "import geopandas as gpd\n",
    "import geojson\n",
    "import json\n",
    "import plotly.express as px\n",
    "import matplotlib as plt\n",
    "import random\n",
    "import pickle\n",
    "import gzip\n",
    "import networkx as nx\n",
    "from data_tools import DataHandler, plot"
   ]
  },
  {
   "cell_type": "code",
   "execution_count": null,
   "metadata": {},
   "outputs": [],
   "source": [
    "\"Calls a dataset using Gerrytools\"\n",
    "\n",
    "#from gerrytools.data import *\n",
    "#import us\n",
    "\n",
    "#df = census20(\n",
    "#    us.states.IL,\n",
    "#    columns={},\n",
    "#    geometry=\"tract\",\n",
    "#)"
   ]
  },
  {
   "cell_type": "code",
   "execution_count": null,
   "metadata": {},
   "outputs": [],
   "source": [
    "\"\"\" Gerrychain library to construct a dual graph of Census tracts from a GeoJson file. \n",
    "    Returns a NetworkX graph, so we can use any function from NetworkX library. \"\"\"\n",
    "\n",
    "#graph = Graph.from_geodataframe(chicago)\n",
    "#graph.to_json(\"GraphToJson.json\")\n",
    "\n",
    "# graph = Graph.from_json(\"data/GraphToJson.json\")\n",
    "\n",
    "# Opening JSON file\n",
    "#f = open('GraphToJson.json')\n",
    "# returns JSON object as a dictionary\n",
    "#data = json.load(f)\n",
    "#f.close()\n",
    "#data.keys()\n",
    "\n",
    "\" Use the following functions to see the structure of the graph \"\n",
    "\n",
    "#adjacency = random.choice(list(data['adjacency']))\n",
    "#adjacency\n",
    "\n",
    "#node = random.choice(list(graph.nodes))\n",
    "#graph.nodes[node]['GEOID20'] \n",
    "\n",
    "#first_node = list(graph.nodes)[0]\n",
    "#node_attributes = graph.nodes[first_node]\n",
    "#print(f\"Attributes for node {first_node}: {node_attributes}\")\n",
    "\n",
    "#lookup()  #Lookup a node/field attribute. Returns the value of the attribute field at node. "
   ]
  },
  {
   "cell_type": "code",
   "execution_count": null,
   "metadata": {},
   "outputs": [],
   "source": []
  }
 ],
 "metadata": {
  "kernelspec": {
   "display_name": "Python 3",
   "language": "python",
   "name": "python3"
  },
  "language_info": {
   "codemirror_mode": {
    "name": "ipython",
    "version": 3
   },
   "file_extension": ".py",
   "mimetype": "text/x-python",
   "name": "python",
   "nbconvert_exporter": "python",
   "pygments_lexer": "ipython3",
   "version": "3.12.2"
  }
 },
 "nbformat": 4,
 "nbformat_minor": 2
}
