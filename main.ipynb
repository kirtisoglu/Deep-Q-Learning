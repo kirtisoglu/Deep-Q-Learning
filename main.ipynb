{
 "cells": [
  {
   "cell_type": "code",
   "execution_count": 1,
   "metadata": {},
   "outputs": [],
   "source": [
    "from gerrytools.data import *\n",
    "import geopandas as gpd\n",
    "import pandas as pd\n",
    "import us\n",
    "import folium"
   ]
  },
  {
   "cell_type": "code",
   "execution_count": null,
   "metadata": {},
   "outputs": [],
   "source": [
    "vtd_shp = gpd.read_file(\"data/NC_vtd20/\") # North Carolina VTDs\n",
    "graph = dualgraph(vtd_shp)\n"
   ]
  },
  {
   "cell_type": "code",
   "execution_count": null,
   "metadata": {},
   "outputs": [],
   "source": [
    "from gerrytools.plotting import choropleth\n",
    "\n",
    "counties[\"SHARE_OF_MAX\"] = (\n",
    "    counties[\"TOTPOP20\"] / counties[\"TOTPOP20\"].max()\n",
    ")\n",
    "\n",
    "ax = choropleth(\n",
    "    geometries=counties,\n",
    "    districts=counties,\n",
    "    demographic_share_col=\"SHARE_OF_MAX\",\n",
    "    cmap=\"Blues\",\n",
    "    district_linecolor=\"#1F77B4\",\n",
    "    colorbar=False,\n",
    "    figsize=(18,8),"
   ]
  },
  {
   "cell_type": "code",
   "execution_count": null,
   "metadata": {},
   "outputs": [],
   "source": [
    "import matplotlib.pyplot as plt\n",
    "import gerrytools.plotting.colors as colors\n",
    "import numpy as np\n",
    "\n",
    "from gerrytools.scoring import *\n",
    "from gerrytools.plotting import *\n",
    "import pandas as pd\n",
    "import geopandas as gpd\n",
    "from gerrychain import Graph\n",
    "import matplotlib.pyplot as plt\n",
    "\n",
    "N = len(new_plan)\n",
    "\n",
    "dists = new_plan.to_crs(\"EPSG:3857\")\n",
    "dists[\"CD\"] = dists[\"CD\"].astype(int)\n",
    "dists=dists.sort_values(by=\"CD\")\n",
    "dists[\"colorindex\"] = list(range(N))\n",
    "dists[\"color\"] = colors.districtr(N)\n",
    "\n",
    "ax = drawplan(plan, assignment=\"CD\",overlays=[ga_county])\n",
    "\n",
    "dists[[\"color\", \"CD\", \"colorindex\"]] # prints a dataframe showing the colors and their indices"
   ]
  },
  {
   "cell_type": "markdown",
   "metadata": {},
   "source": [
    "from gerrychain import Graph, Partition\n",
    "from gerrychain.updaters import Tally, cut_edges\n",
    "\n",
    "\n",
    "# Load the graph in from the provided json file\n",
    "graph = Graph.from_json(\"./PA_VTDs.json\")\n",
    "\n",
    "# Set up the initial partition object\n",
    "initial_partition = Partition(\n",
    "    graph,\n",
    "    assignment=\"2011_PLA_1\",\n",
    "    updaters={\n",
    "        \"population\": Tally(\"TOT_POP\", alias=\"population\"),\n",
    "        \"cut_edges\": cut_edges,\n",
    "    }\n",
    ")"
   ]
  }
 ],
 "metadata": {
  "kernelspec": {
   "display_name": "Python 3",
   "language": "python",
   "name": "python3"
  },
  "language_info": {
   "codemirror_mode": {
    "name": "ipython",
    "version": 3
   },
   "file_extension": ".py",
   "mimetype": "text/x-python",
   "name": "python",
   "nbconvert_exporter": "python",
   "pygments_lexer": "ipython3",
   "version": "3.12.2"
  }
 },
 "nbformat": 4,
 "nbformat_minor": 2
}
