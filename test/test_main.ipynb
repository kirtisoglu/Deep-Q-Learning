{
 "cells": [
  {
   "cell_type": "code",
   "execution_count": 1,
   "metadata": {},
   "outputs": [],
   "source": [
    "import matplotlib.pyplot as plt\n",
    "from gerrychain import (Partition, Graph, MarkovChain,\n",
    "                        updaters, constraints, accept)\n",
    "from gerrychain.proposals import recom\n",
    "from gerrychain.constraints import contiguous\n",
    "from functools import partial\n",
    "import pandas\n",
    "\n",
    "# Set the random seed so that the results are reproducible.\n",
    "import random\n",
    "random.seed(2024)"
   ]
  },
  {
   "cell_type": "code",
   "execution_count": 2,
   "metadata": {},
   "outputs": [],
   "source": [
    "graph = Graph.from_json(\"./gerrymandria.json\")"
   ]
  },
  {
   "cell_type": "code",
   "execution_count": 3,
   "metadata": {},
   "outputs": [],
   "source": [
    "my_updaters = {\n",
    "    \"population\": updaters.Tally(\"TOTPOP\"),\n",
    "    \"cut_edges\": updaters.cut_edges\n",
    "}\n",
    "\n",
    "initial_partition = Partition(\n",
    "    graph,\n",
    "    assignment=\"district\",\n",
    "    updaters=my_updaters\n",
    ")"
   ]
  },
  {
   "cell_type": "code",
   "execution_count": 4,
   "metadata": {},
   "outputs": [],
   "source": [
    "\" Make the Proposal \"\n",
    "\n",
    "# This should be 8 since each district has 1 person in it.\n",
    "# Note that the key \"population\" corresponds to the population updater\n",
    "# that we defined above and not with the population column in the json file.\n",
    "ideal_population = sum(initial_partition[\"population\"].values()) / len(initial_partition)\n",
    "\n",
    "proposal = partial(\n",
    "    recom,\n",
    "    pop_col=\"TOTPOP\",\n",
    "    pop_target=ideal_population,\n",
    "    epsilon=0.01,\n",
    "    node_repeats=2\n",
    ")"
   ]
  },
  {
   "cell_type": "code",
   "execution_count": 5,
   "metadata": {},
   "outputs": [],
   "source": [
    "\" Set up the chain \"\n",
    "recom_chain = MarkovChain(\n",
    "    proposal=proposal,\n",
    "    constraints=[contiguous],\n",
    "    accept=accept.always_accept,\n",
    "    initial_state=initial_partition,\n",
    "    total_steps=40\n",
    ")"
   ]
  },
  {
   "cell_type": "code",
   "execution_count": 6,
   "metadata": {},
   "outputs": [
    {
     "name": "stdout",
     "output_type": "stream",
     "text": [
      "Finished step 40/40\r"
     ]
    }
   ],
   "source": [
    "\" Run the chain \"\n",
    "\n",
    "assignment_list = []\n",
    "\n",
    "for i, item in enumerate(recom_chain):\n",
    "    print(f\"Finished step {i+1}/{len(recom_chain)}\", end=\"\\r\")\n",
    "    assignment_list.append(item.assignment)"
   ]
  },
  {
   "cell_type": "code",
   "execution_count": null,
   "metadata": {},
   "outputs": [],
   "source": [
    "\" collect the assignment at each step of the chain so that we can watch the chain work in a fun animation \"\n",
    "\n",
    "%matplotlib inline\n",
    "import matplotlib_inline.backend_inline\n",
    "import matplotlib.cm as mcm\n",
    "import matplotlib.pyplot as plt\n",
    "import networkx as nx\n",
    "from PIL import Image\n",
    "import io\n",
    "import ipywidgets as widgets\n",
    "from IPython.display import display, clear_output\n",
    "\n",
    "frames = []\n",
    "\n",
    "for i in range(len(assignment_list)):\n",
    "    fig, ax = plt.subplots(figsize=(8,8))\n",
    "    pos = {node :(data['x'],data['y']) for node, data in graph.nodes(data=True)}\n",
    "    node_colors = [mcm.tab20(int(assignment_list[i][node]) % 20) for node in graph.nodes()]\n",
    "    node_labels = {node: str(assignment_list[i][node]) for node in graph.nodes()}\n",
    "\n",
    "    nx.draw_networkx_nodes(graph, pos, node_color=node_colors)\n",
    "    nx.draw_networkx_edges(graph, pos)\n",
    "    nx.draw_networkx_labels(graph, pos, labels=node_labels)\n",
    "    plt.axis('off')\n",
    "\n",
    "    buffer = io.BytesIO()\n",
    "    plt.savefig(buffer, format='png')\n",
    "    buffer.seek(0)\n",
    "    image = Image.open(buffer)\n",
    "    frames.append(image)\n",
    "    plt.close(fig)\n",
    "\n",
    "def show_frame(idx):\n",
    "    clear_output(wait=True)\n",
    "    display(frames[idx])\n",
    "\n",
    "slider = widgets.IntSlider(value=0, min=0, max=len(frames)-1, step=1, description='Frame:')\n",
    "slider.layout.width = '500px'\n",
    "widgets.interactive(show_frame, idx=slider)"
   ]
  }
 ],
 "metadata": {
  "kernelspec": {
   "display_name": "Python 3",
   "language": "python",
   "name": "python3"
  },
  "language_info": {
   "codemirror_mode": {
    "name": "ipython",
    "version": 3
   },
   "file_extension": ".py",
   "mimetype": "text/x-python",
   "name": "python",
   "nbconvert_exporter": "python",
   "pygments_lexer": "ipython3",
   "version": "3.12.2"
  }
 },
 "nbformat": 4,
 "nbformat_minor": 2
}
