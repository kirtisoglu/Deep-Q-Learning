{
 "cells": [
  {
   "cell_type": "code",
   "execution_count": 1,
   "metadata": {},
   "outputs": [],
   "source": [
    "from gerrychain import (Partition, Graph, MarkovChain,\n",
    "                        updaters, constraints, accept, metagraph)\n",
    "from gerrychain.proposals import recom\n",
    "from gerrychain.constraints import contiguous\n",
    "from functools import partial"
   ]
  },
  {
   "cell_type": "markdown",
   "metadata": {},
   "source": [
    "# Generate Dual Graph"
   ]
  },
  {
   "cell_type": "code",
   "execution_count": 2,
   "metadata": {},
   "outputs": [],
   "source": [
    "graph = Graph.from_json(\"../data/gerrymandria.json\")"
   ]
  },
  {
   "cell_type": "markdown",
   "metadata": {},
   "source": [
    "# Initial Solution: A Partition class"
   ]
  },
  {
   "cell_type": "code",
   "execution_count": 28,
   "metadata": {},
   "outputs": [],
   "source": [
    "\" Produce an initial solution\"\n",
    "\n",
    "my_updaters = {\n",
    "    \"population\": updaters.Tally(\"TOTPOP\"),\n",
    "    \"cut_edges\": updaters.cut_edges\n",
    "}\n",
    "\n",
    "initial_partition = Partition(\n",
    "    graph,\n",
    "    assignment=\"district\",\n",
    "    updaters=my_updaters\n",
    ")"
   ]
  },
  {
   "cell_type": "markdown",
   "metadata": {},
   "source": [
    "# Recomb Markov chain\n",
    "\n",
    "You do not need this. I put here to just see the solution of the best existing algorithm. (generate spanning tree, remerge, resplit)"
   ]
  },
  {
   "cell_type": "code",
   "execution_count": 4,
   "metadata": {},
   "outputs": [],
   "source": [
    "\" Make the Proposal \"\n",
    "\n",
    "# This should be 8 since each district has 1 person in it.\n",
    "# Note that the key \"population\" corresponds to the population updater\n",
    "# that we defined above and not with the population column in the json file.\n",
    "ideal_population = sum(initial_partition[\"population\"].values()) / len(initial_partition)\n",
    "\n",
    "proposal = partial(\n",
    "    recom,\n",
    "    pop_col=\"TOTPOP\",\n",
    "    pop_target=ideal_population,\n",
    "    epsilon=0.01,\n",
    "    node_repeats=2\n",
    ")"
   ]
  },
  {
   "cell_type": "code",
   "execution_count": 5,
   "metadata": {},
   "outputs": [],
   "source": [
    "\" Set up the chain \"\n",
    "recom_chain = MarkovChain(\n",
    "    proposal=proposal,\n",
    "    constraints=[contiguous],\n",
    "    accept=accept.always_accept,\n",
    "    initial_state=initial_partition,\n",
    "    total_steps=40\n",
    ")"
   ]
  },
  {
   "cell_type": "code",
   "execution_count": 6,
   "metadata": {},
   "outputs": [
    {
     "name": "stdout",
     "output_type": "stream",
     "text": [
      "Finished step 40/40\r"
     ]
    }
   ],
   "source": [
    "\" Run the chain \"\n",
    "\n",
    "assignment_list = []\n",
    "\n",
    "for i, item in enumerate(recom_chain):\n",
    "    print(f\"Finished step {i+1}/{len(recom_chain)}\", end=\"\\r\")\n",
    "    assignment_list.append(item.assignment)"
   ]
  },
  {
   "cell_type": "code",
   "execution_count": null,
   "metadata": {},
   "outputs": [],
   "source": [
    "\" collect the assignment at each step of the chain so that we can watch the chain work in a fun animation \"\n",
    "\n",
    "%matplotlib inline\n",
    "import matplotlib_inline.backend_inline\n",
    "import matplotlib.cm as mcm\n",
    "import matplotlib.pyplot as plt\n",
    "import networkx as nx\n",
    "from PIL import Image\n",
    "import io\n",
    "import ipywidgets as widgets\n",
    "from IPython.display import display, clear_output\n",
    "\n",
    "frames = []\n",
    "\n",
    "for i in range(len(assignment_list)):\n",
    "    fig, ax = plt.subplots(figsize=(8,8))\n",
    "    pos = {node :(data['x'],data['y']) for node, data in graph.nodes(data=True)}\n",
    "    node_colors = [mcm.tab20(int(assignment_list[i][node]) % 20) for node in graph.nodes()]\n",
    "    node_labels = {node: str(assignment_list[i][node]) for node in graph.nodes()}\n",
    "\n",
    "    nx.draw_networkx_nodes(graph, pos, node_color=node_colors)\n",
    "    nx.draw_networkx_edges(graph, pos)\n",
    "    nx.draw_networkx_labels(graph, pos, labels=node_labels)\n",
    "    plt.axis('off')\n",
    "\n",
    "    buffer = io.BytesIO()\n",
    "    plt.savefig(buffer, format='png')\n",
    "    buffer.seek(0)\n",
    "    image = Image.open(buffer)\n",
    "    frames.append(image)\n",
    "    plt.close(fig)\n",
    "\n",
    "def show_frame(idx):\n",
    "    clear_output(wait=True)\n",
    "    display(frames[idx])\n",
    "\n",
    "slider = widgets.IntSlider(value=0, min=0, max=len(frames)-1, step=1, description='Frame:')\n",
    "slider.layout.width = '500px'\n",
    "widgets.interactive(show_frame, idx=slider)"
   ]
  },
  {
   "cell_type": "markdown",
   "metadata": {},
   "source": [
    "Note\n",
    "\n",
    "Partition class documentation: https://gerrychain.readthedocs.io/en/latest/full_ref/#partition\n",
    "\n",
    "graph has 64 nodes \n",
    "\n",
    "initial partition has 8 districts"
   ]
  },
  {
   "cell_type": "markdown",
   "metadata": {},
   "source": [
    "# All You Need: Follow the steps given below"
   ]
  },
  {
   "cell_type": "code",
   "execution_count": null,
   "metadata": {},
   "outputs": [],
   "source": [
    "\" 1. Determine Valid Single Flips \"\n",
    "\n",
    "# Generate all valid flips for a given partition subject to the contiguous constraint. \n",
    "# An iterator that yields dictionaries representing valid flips.\n",
    "# contiguous(initial_partition) # checks if subgraphs of districts are connected.\n",
    "\n",
    "metagraph.all_valid_flips(initial_partition, constraints=[contiguous])"
   ]
  },
  {
   "cell_type": "code",
   "execution_count": null,
   "metadata": {},
   "outputs": [],
   "source": [
    "\" 2. Convert the iterator of dictionaries to a list of needed arrays \""
   ]
  },
  {
   "cell_type": "code",
   "execution_count": null,
   "metadata": {},
   "outputs": [],
   "source": [
    "\" 3. Compute the reward \"\n",
    "\n",
    "# Computes the deviation of populations from exact equality among parts of the partition. \n",
    "# returns dictionary from parts to their deviation\n",
    "# By “deviation” we mean (actual_value - ideal)/ideal (not the absolute value). ideal is the mean of populations of districts.\n",
    "\n",
    "constraints.validity.deviation_from_ideal(partition=initial_partition)"
   ]
  },
  {
   "cell_type": "code",
   "execution_count": null,
   "metadata": {},
   "outputs": [],
   "source": [
    "\" 4. Convert the output sequence of RL to a dictionary of flips \"\n",
    "\n",
    "# flips: dictionary assigning nodes their new districts\n",
    "# Let a =  [0, 0, -1, 0, ..., 0, 1] be an example for a list of single flip. Consider output is a set A of single flips.\n",
    "\n",
    "A = {...} \n",
    "flips = {} \n",
    "l = 10  # arbitrarily taken as the length of a list. \n",
    "\n",
    "for a in A:\n",
    "    while i < l:\n",
    "        if a[i] == 1:\n",
    "\n",
    ".\n",
    ".\n",
    "."
   ]
  },
  {
   "cell_type": "code",
   "execution_count": null,
   "metadata": {},
   "outputs": [],
   "source": [
    "\" 5. Define the next state returning the new Partition class from the flips that is performed on the current partition. \"\n",
    "\n",
    "# flips: dictionary assigning nodes their new districts\n",
    "\n",
    "Partition.initial_partition.flip(flips: Dict)   "
   ]
  },
  {
   "cell_type": "code",
   "execution_count": null,
   "metadata": {},
   "outputs": [],
   "source": [
    "\" An alternative way for defining the Next state: update some parts of the assignment and get the next partition. Which one is cheaper? \"\n",
    "#Does not check that every node is still assigned to a part. new_parts (Dict) – dictionary mapping (some) parts to their new sets\n",
    "\n",
    "initial_partition.update_parts(new_parts: Dict) "
   ]
  },
  {
   "cell_type": "code",
   "execution_count": null,
   "metadata": {},
   "outputs": [],
   "source": [
    "\" Plotting function to compare initial and final solutions \"\n",
    "\n"
   ]
  },
  {
   "cell_type": "markdown",
   "metadata": {},
   "source": [
    "# Some Other functions that may help later"
   ]
  },
  {
   "cell_type": "code",
   "execution_count": null,
   "metadata": {},
   "outputs": [],
   "source": [
    "# metagraph.all_cut_edge_flips(initial_partition) \n",
    "# Generate all possible flips of cut edges in a partition without any constraints. \n",
    "# An iterator that yields dictionaries representing the flipped edges."
   ]
  },
  {
   "cell_type": "code",
   "execution_count": null,
   "metadata": {},
   "outputs": [],
   "source": [
    "# Generates all valid Partitions that differ from the given partition by one flip.\n",
    "# metagraph.all_valid_states_one_flip_away(partition: Partition, constraints: Union[Iterable[Callable], Callable])"
   ]
  },
  {
   "cell_type": "code",
   "execution_count": null,
   "metadata": {},
   "outputs": [],
   "source": [
    "# returns the set of IDs of all parts that gained or lost a node when compared to the parent partition.\n",
    "# partition is the proposed next Partition class\n",
    "# onstraints.contiguity.affected_parts(partition: Partition)"
   ]
  },
  {
   "cell_type": "code",
   "execution_count": null,
   "metadata": {},
   "outputs": [],
   "source": [
    "# metagraph.metagraph_degree(initial_partition, constraints: Union[Iterable[Callable], Callable]) \n",
    "# Calculate the degree of the node in the metagraph of the given partition. \n",
    "# How many possible valid states are reachable from the state given by partition in a single flip subject to the prescribed constraints.."
   ]
  },
  {
   "cell_type": "code",
   "execution_count": null,
   "metadata": {},
   "outputs": [],
   "source": [
    "# initial_partition.assignment.to_dict()  # The assignment as a {node: part} dictionary."
   ]
  },
  {
   "cell_type": "code",
   "execution_count": null,
   "metadata": {},
   "outputs": [],
   "source": [
    "#updaters.initialize_exterior_boundaries_as_a_set(initial_partition) # A dictionary mapping each part of a partition to the set of nodes in that part that are on the boundary.\n",
    "#updaters.boundary_nodes(initial_partition, 'boundary_nodes') # takes a partition class, returns set of boundary nodes"
   ]
  }
 ],
 "metadata": {
  "kernelspec": {
   "display_name": "Python 3",
   "language": "python",
   "name": "python3"
  },
  "language_info": {
   "codemirror_mode": {
    "name": "ipython",
    "version": 3
   },
   "file_extension": ".py",
   "mimetype": "text/x-python",
   "name": "python",
   "nbconvert_exporter": "python",
   "pygments_lexer": "ipython3",
   "version": "3.12.2"
  }
 },
 "nbformat": 4,
 "nbformat_minor": 2
}
